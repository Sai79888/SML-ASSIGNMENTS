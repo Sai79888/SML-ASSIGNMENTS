{
  "nbformat": 4,
  "nbformat_minor": 0,
  "metadata": {
    "colab": {
      "provenance": []
    },
    "kernelspec": {
      "name": "python3",
      "display_name": "Python 3"
    },
    "language_info": {
      "name": "python"
    }
  },
  "cells": [
    {
      "cell_type": "code",
      "source": [
        "import pandas as pd\n",
        "d=pd.read_csv(\"/content/train (1).csv\")\n",
        "print(d)"
      ],
      "metadata": {
        "colab": {
          "base_uri": "https://localhost:8080/"
        },
        "id": "9IX-xQa2ZUjQ",
        "outputId": "5ab360bd-e9fa-4eaf-f936-243cf60701c4"
      },
      "execution_count": 43,
      "outputs": [
        {
          "output_type": "stream",
          "name": "stdout",
          "text": [
            "      battery_power  blue  clock_speed  dual_sim  fc  four_g  int_memory  \\\n",
            "0               842     0          2.2         0   1       0           7   \n",
            "1              1021     1          0.5         1   0       1          53   \n",
            "2               563     1          0.5         1   2       1          41   \n",
            "3               615     1          2.5         0   0       0          10   \n",
            "4              1821     1          1.2         0  13       1          44   \n",
            "...             ...   ...          ...       ...  ..     ...         ...   \n",
            "1995            794     1          0.5         1   0       1           2   \n",
            "1996           1965     1          2.6         1   0       0          39   \n",
            "1997           1911     0          0.9         1   1       1          36   \n",
            "1998           1512     0          0.9         0   4       1          46   \n",
            "1999            510     1          2.0         1   5       1          45   \n",
            "\n",
            "      m_dep  mobile_wt  n_cores  ...  px_height  px_width   ram  sc_h  sc_w  \\\n",
            "0       0.6        188        2  ...         20       756  2549     9     7   \n",
            "1       0.7        136        3  ...        905      1988  2631    17     3   \n",
            "2       0.9        145        5  ...       1263      1716  2603    11     2   \n",
            "3       0.8        131        6  ...       1216      1786  2769    16     8   \n",
            "4       0.6        141        2  ...       1208      1212  1411     8     2   \n",
            "...     ...        ...      ...  ...        ...       ...   ...   ...   ...   \n",
            "1995    0.8        106        6  ...       1222      1890   668    13     4   \n",
            "1996    0.2        187        4  ...        915      1965  2032    11    10   \n",
            "1997    0.7        108        8  ...        868      1632  3057     9     1   \n",
            "1998    0.1        145        5  ...        336       670   869    18    10   \n",
            "1999    0.9        168        6  ...        483       754  3919    19     4   \n",
            "\n",
            "      talk_time  three_g  touch_screen  wifi  price_range  \n",
            "0            19        0             0     1            1  \n",
            "1             7        1             1     0            2  \n",
            "2             9        1             1     0            2  \n",
            "3            11        1             0     0            2  \n",
            "4            15        1             1     0            1  \n",
            "...         ...      ...           ...   ...          ...  \n",
            "1995         19        1             1     0            0  \n",
            "1996         16        1             1     1            2  \n",
            "1997          5        1             1     0            3  \n",
            "1998         19        1             1     1            0  \n",
            "1999          2        1             1     1            3  \n",
            "\n",
            "[2000 rows x 21 columns]\n"
          ]
        }
      ]
    },
    {
      "cell_type": "code",
      "source": [
        "y=d['price_range']\n",
        "print(y)"
      ],
      "metadata": {
        "colab": {
          "base_uri": "https://localhost:8080/"
        },
        "id": "Itzr3YaaZndY",
        "outputId": "64f23de0-b515-478c-9538-958c770b2242"
      },
      "execution_count": 13,
      "outputs": [
        {
          "output_type": "stream",
          "name": "stdout",
          "text": [
            "0       1\n",
            "1       2\n",
            "2       2\n",
            "3       2\n",
            "4       1\n",
            "       ..\n",
            "1995    0\n",
            "1996    2\n",
            "1997    3\n",
            "1998    0\n",
            "1999    3\n",
            "Name: price_range, Length: 2000, dtype: int64\n"
          ]
        }
      ]
    },
    {
      "cell_type": "code",
      "source": [
        "x=d.drop('price_range',axis=1)\n",
        "print(x)"
      ],
      "metadata": {
        "colab": {
          "base_uri": "https://localhost:8080/"
        },
        "id": "Kbb239oiZrky",
        "outputId": "c6bda194-879f-4cb9-b252-780669946654"
      },
      "execution_count": 14,
      "outputs": [
        {
          "output_type": "stream",
          "name": "stdout",
          "text": [
            "      battery_power  blue  clock_speed  dual_sim  fc  four_g  int_memory  \\\n",
            "0               842     0          2.2         0   1       0           7   \n",
            "1              1021     1          0.5         1   0       1          53   \n",
            "2               563     1          0.5         1   2       1          41   \n",
            "3               615     1          2.5         0   0       0          10   \n",
            "4              1821     1          1.2         0  13       1          44   \n",
            "...             ...   ...          ...       ...  ..     ...         ...   \n",
            "1995            794     1          0.5         1   0       1           2   \n",
            "1996           1965     1          2.6         1   0       0          39   \n",
            "1997           1911     0          0.9         1   1       1          36   \n",
            "1998           1512     0          0.9         0   4       1          46   \n",
            "1999            510     1          2.0         1   5       1          45   \n",
            "\n",
            "      m_dep  mobile_wt  n_cores  pc  px_height  px_width   ram  sc_h  sc_w  \\\n",
            "0       0.6        188        2   2         20       756  2549     9     7   \n",
            "1       0.7        136        3   6        905      1988  2631    17     3   \n",
            "2       0.9        145        5   6       1263      1716  2603    11     2   \n",
            "3       0.8        131        6   9       1216      1786  2769    16     8   \n",
            "4       0.6        141        2  14       1208      1212  1411     8     2   \n",
            "...     ...        ...      ...  ..        ...       ...   ...   ...   ...   \n",
            "1995    0.8        106        6  14       1222      1890   668    13     4   \n",
            "1996    0.2        187        4   3        915      1965  2032    11    10   \n",
            "1997    0.7        108        8   3        868      1632  3057     9     1   \n",
            "1998    0.1        145        5   5        336       670   869    18    10   \n",
            "1999    0.9        168        6  16        483       754  3919    19     4   \n",
            "\n",
            "      talk_time  three_g  touch_screen  wifi  \n",
            "0            19        0             0     1  \n",
            "1             7        1             1     0  \n",
            "2             9        1             1     0  \n",
            "3            11        1             0     0  \n",
            "4            15        1             1     0  \n",
            "...         ...      ...           ...   ...  \n",
            "1995         19        1             1     0  \n",
            "1996         16        1             1     1  \n",
            "1997          5        1             1     0  \n",
            "1998         19        1             1     1  \n",
            "1999          2        1             1     1  \n",
            "\n",
            "[2000 rows x 20 columns]\n"
          ]
        }
      ]
    },
    {
      "cell_type": "code",
      "source": [
        "dd=(x-x.min())/(x.max()-x.min())\n",
        "print(dd)"
      ],
      "metadata": {
        "colab": {
          "base_uri": "https://localhost:8080/"
        },
        "id": "C0QvyT2wawAz",
        "outputId": "a1510433-1a54-408d-fc03-482f82836396"
      },
      "execution_count": 21,
      "outputs": [
        {
          "output_type": "stream",
          "name": "stdout",
          "text": [
            "      battery_power  blue  clock_speed  dual_sim        fc  four_g  \\\n",
            "0          0.227789   0.0         0.68       0.0  0.052632     0.0   \n",
            "1          0.347361   1.0         0.00       1.0  0.000000     1.0   \n",
            "2          0.041416   1.0         0.00       1.0  0.105263     1.0   \n",
            "3          0.076152   1.0         0.80       0.0  0.000000     0.0   \n",
            "4          0.881764   1.0         0.28       0.0  0.684211     1.0   \n",
            "...             ...   ...          ...       ...       ...     ...   \n",
            "1995       0.195725   1.0         0.00       1.0  0.000000     1.0   \n",
            "1996       0.977956   1.0         0.84       1.0  0.000000     0.0   \n",
            "1997       0.941884   0.0         0.16       1.0  0.052632     1.0   \n",
            "1998       0.675351   0.0         0.16       0.0  0.210526     1.0   \n",
            "1999       0.006012   1.0         0.60       1.0  0.263158     1.0   \n",
            "\n",
            "      int_memory     m_dep  mobile_wt   n_cores    pc  px_height  px_width  \\\n",
            "0       0.080645  0.555556   0.900000  0.142857  0.10   0.010204  0.170895   \n",
            "1       0.822581  0.666667   0.466667  0.285714  0.30   0.461735  0.993324   \n",
            "2       0.629032  0.888889   0.541667  0.571429  0.30   0.644388  0.811749   \n",
            "3       0.129032  0.777778   0.425000  0.714286  0.45   0.620408  0.858478   \n",
            "4       0.677419  0.555556   0.508333  0.142857  0.70   0.616327  0.475300   \n",
            "...          ...       ...        ...       ...   ...        ...       ...   \n",
            "1995    0.000000  0.777778   0.216667  0.714286  0.70   0.623469  0.927904   \n",
            "1996    0.596774  0.111111   0.891667  0.428571  0.15   0.466837  0.977971   \n",
            "1997    0.548387  0.666667   0.233333  1.000000  0.15   0.442857  0.755674   \n",
            "1998    0.709677  0.000000   0.541667  0.571429  0.25   0.171429  0.113485   \n",
            "1999    0.693548  0.888889   0.733333  0.714286  0.80   0.246429  0.169559   \n",
            "\n",
            "           ram      sc_h      sc_w  talk_time  three_g  touch_screen  wifi  \n",
            "0     0.612774  0.285714  0.388889   0.944444      0.0           0.0   1.0  \n",
            "1     0.634687  0.857143  0.166667   0.277778      1.0           1.0   0.0  \n",
            "2     0.627205  0.428571  0.111111   0.388889      1.0           1.0   0.0  \n",
            "3     0.671566  0.785714  0.444444   0.500000      1.0           0.0   0.0  \n",
            "4     0.308658  0.214286  0.111111   0.722222      1.0           1.0   0.0  \n",
            "...        ...       ...       ...        ...      ...           ...   ...  \n",
            "1995  0.110102  0.571429  0.222222   0.944444      1.0           1.0   0.0  \n",
            "1996  0.474613  0.428571  0.555556   0.777778      1.0           1.0   1.0  \n",
            "1997  0.748530  0.285714  0.055556   0.166667      1.0           1.0   0.0  \n",
            "1998  0.163816  0.928571  0.555556   0.944444      1.0           1.0   1.0  \n",
            "1999  0.978888  1.000000  0.222222   0.000000      1.0           1.0   1.0  \n",
            "\n",
            "[2000 rows x 20 columns]\n"
          ]
        }
      ]
    },
    {
      "cell_type": "code",
      "source": [
        "# x_train,x_tet,y_train,y_test\n",
        "from sklearn.model_selection import train_test_split\n",
        "x_train,x_test,y_train,y_test=train_test_split(dd,y,test_size=0.2)"
      ],
      "metadata": {
        "id": "bmbVu_PGa-Nk"
      },
      "execution_count": 22,
      "outputs": []
    },
    {
      "cell_type": "code",
      "source": [
        "random_state=100\n",
        "print(x_train)"
      ],
      "metadata": {
        "colab": {
          "base_uri": "https://localhost:8080/"
        },
        "id": "NwVJSPGFbHX_",
        "outputId": "8f3b0225-53ea-4827-de90-02f3568aba0b"
      },
      "execution_count": 23,
      "outputs": [
        {
          "output_type": "stream",
          "name": "stdout",
          "text": [
            "      battery_power  blue  clock_speed  dual_sim        fc  four_g  \\\n",
            "277        0.521042   1.0         0.92       1.0  0.157895     1.0   \n",
            "1643       0.809619   1.0         0.60       0.0  0.473684     1.0   \n",
            "368        0.910488   0.0         0.36       0.0  0.421053     1.0   \n",
            "1285       0.816967   1.0         0.52       0.0  0.000000     1.0   \n",
            "1929       0.735471   0.0         0.44       1.0  0.000000     1.0   \n",
            "...             ...   ...          ...       ...       ...     ...   \n",
            "623        0.095524   1.0         0.32       1.0  0.368421     1.0   \n",
            "1896       0.867067   0.0         0.20       0.0  0.052632     1.0   \n",
            "191        0.708751   1.0         0.32       1.0  0.052632     1.0   \n",
            "1380       0.875084   0.0         0.96       0.0  0.000000     0.0   \n",
            "37         0.817635   1.0         0.44       1.0  0.315789     1.0   \n",
            "\n",
            "      int_memory     m_dep  mobile_wt   n_cores    pc  px_height  px_width  \\\n",
            "277     0.096774  0.222222   0.533333  0.428571  0.95   0.301020  0.303071   \n",
            "1643    0.048387  0.666667   0.991667  0.714286  0.80   0.055102  0.976636   \n",
            "368     0.709677  0.666667   0.816667  0.000000  0.60   0.085714  0.321095   \n",
            "1285    0.112903  0.777778   0.166667  0.142857  0.05   0.334184  0.218959   \n",
            "1929    0.532258  0.000000   0.158333  0.857143  0.35   0.676020  0.867824   \n",
            "...          ...       ...        ...       ...   ...        ...       ...   \n",
            "623     0.451613  0.444444   0.283333  0.000000  0.80   0.581633  0.770360   \n",
            "1896    0.451613  0.555556   0.358333  0.285714  0.45   0.314796  0.591455   \n",
            "191     0.080645  0.111111   0.916667  0.571429  0.75   0.327551  0.689586   \n",
            "1380    0.500000  0.111111   0.433333  1.000000  0.10   0.560714  0.702937   \n",
            "37      0.064516  0.444444   0.325000  0.142857  0.90   0.310714  0.538718   \n",
            "\n",
            "           ram      sc_h      sc_w  talk_time  three_g  touch_screen  wifi  \n",
            "277   0.426243  0.214286  0.111111   0.388889      1.0           1.0   0.0  \n",
            "1643  0.335917  0.714286  0.333333   0.000000      1.0           0.0   1.0  \n",
            "368   0.649385  0.428571  0.388889   0.888889      1.0           1.0   1.0  \n",
            "1285  0.748263  0.928571  0.888889   0.222222      1.0           0.0   0.0  \n",
            "1929  0.420363  0.928571  0.944444   0.611111      1.0           0.0   0.0  \n",
            "...        ...       ...       ...        ...      ...           ...   ...  \n",
            "623   0.568145  0.285714  0.000000   0.944444      1.0           0.0   1.0  \n",
            "1896  0.050508  0.357143  0.444444   0.444444      1.0           1.0   0.0  \n",
            "191   0.530999  0.500000  0.555556   0.222222      1.0           0.0   0.0  \n",
            "1380  0.629075  0.214286  0.166667   0.611111      1.0           1.0   0.0  \n",
            "37    0.847942  0.071429  0.277778   0.111111      1.0           1.0   0.0  \n",
            "\n",
            "[1600 rows x 20 columns]\n"
          ]
        }
      ]
    },
    {
      "cell_type": "code",
      "source": [
        "print(x_test)"
      ],
      "metadata": {
        "colab": {
          "base_uri": "https://localhost:8080/"
        },
        "id": "1z7jEjC9bTA3",
        "outputId": "98b58e57-e256-4ab4-a74f-8aa055933d03"
      },
      "execution_count": 24,
      "outputs": [
        {
          "output_type": "stream",
          "name": "stdout",
          "text": [
            "      battery_power  blue  clock_speed  dual_sim        fc  four_g  \\\n",
            "1507       0.717435   0.0         0.80       1.0  0.000000     1.0   \n",
            "260        0.169005   0.0         0.00       1.0  0.368421     1.0   \n",
            "1165       0.512358   1.0         0.96       0.0  0.473684     1.0   \n",
            "122        0.216433   1.0         0.00       1.0  0.368421     0.0   \n",
            "89         0.539746   0.0         0.24       1.0  0.000000     0.0   \n",
            "...             ...   ...          ...       ...       ...     ...   \n",
            "1110       0.162993   1.0         0.04       1.0  0.263158     0.0   \n",
            "1882       0.060120   0.0         0.64       1.0  0.947368     1.0   \n",
            "262        0.621242   1.0         0.00       0.0  0.000000     1.0   \n",
            "1912       0.129593   0.0         0.28       0.0  0.052632     1.0   \n",
            "199        0.937876   0.0         0.04       1.0  0.473684     1.0   \n",
            "\n",
            "      int_memory     m_dep  mobile_wt   n_cores    pc  px_height  px_width  \\\n",
            "1507    0.145161  0.111111   0.875000  0.857143  1.00   0.251020  0.212283   \n",
            "260     0.919355  0.666667   0.816667  0.857143  0.50   0.976531  0.953271   \n",
            "1165    0.645161  0.888889   0.850000  0.714286  0.85   0.183673  0.275033   \n",
            "122     0.806452  0.888889   0.416667  0.285714  0.50   0.304592  0.242323   \n",
            "89      0.500000  0.444444   0.166667  0.428571  0.70   0.284184  0.602136   \n",
            "...          ...       ...        ...       ...   ...        ...       ...   \n",
            "1110    0.532258  0.777778   0.183333  1.000000  0.50   0.045408  0.692924   \n",
            "1882    0.225806  0.444444   0.966667  0.857143  1.00   0.485714  0.818425   \n",
            "262     0.870968  0.555556   0.925000  0.000000  0.05   0.079592  0.301736   \n",
            "1912    0.629032  0.333333   0.741667  1.000000  0.40   0.402551  0.474633   \n",
            "199     0.548387  0.333333   0.325000  0.285714  1.00   0.420918  0.695594   \n",
            "\n",
            "           ram      sc_h      sc_w  talk_time  three_g  touch_screen  wifi  \n",
            "1507  0.514698  0.142857  0.166667   0.833333      1.0           1.0   0.0  \n",
            "260   0.206040  0.071429  0.166667   0.166667      1.0           0.0   0.0  \n",
            "1165  0.180385  0.428571  0.277778   1.000000      1.0           1.0   0.0  \n",
            "122   0.876002  0.357143  0.222222   0.222222      0.0           1.0   0.0  \n",
            "89    0.555318  0.357143  0.055556   0.500000      1.0           0.0   1.0  \n",
            "...        ...       ...       ...        ...      ...           ...   ...  \n",
            "1110  0.588723  0.642857  0.055556   0.777778      1.0           1.0   0.0  \n",
            "1882  0.119722  0.642857  0.277778   0.111111      1.0           1.0   1.0  \n",
            "262   0.054784  0.142857  0.166667   0.333333      1.0           0.0   0.0  \n",
            "1912  0.541422  0.000000  0.111111   0.833333      1.0           1.0   0.0  \n",
            "199   0.275521  0.571429  0.222222   0.777778      1.0           0.0   0.0  \n",
            "\n",
            "[400 rows x 20 columns]\n"
          ]
        }
      ]
    },
    {
      "cell_type": "code",
      "source": [
        "print(y_train)"
      ],
      "metadata": {
        "colab": {
          "base_uri": "https://localhost:8080/"
        },
        "id": "dWdWNVrwbXhy",
        "outputId": "36e73d3b-34ad-4d79-bd3c-357a0c350600"
      },
      "execution_count": 25,
      "outputs": [
        {
          "output_type": "stream",
          "name": "stdout",
          "text": [
            "277     1\n",
            "1643    1\n",
            "368     2\n",
            "1285    3\n",
            "1929    2\n",
            "       ..\n",
            "623     2\n",
            "1896    0\n",
            "191     2\n",
            "1380    3\n",
            "37      3\n",
            "Name: price_range, Length: 1600, dtype: int64\n"
          ]
        }
      ]
    },
    {
      "cell_type": "code",
      "source": [
        "print(y_test)"
      ],
      "metadata": {
        "colab": {
          "base_uri": "https://localhost:8080/"
        },
        "id": "52tUglx6bcHx",
        "outputId": "93918bf5-7ceb-4fbc-add5-7547929c599d"
      },
      "execution_count": 26,
      "outputs": [
        {
          "output_type": "stream",
          "name": "stdout",
          "text": [
            "1507    2\n",
            "260     1\n",
            "1165    0\n",
            "122     3\n",
            "89      2\n",
            "       ..\n",
            "1110    1\n",
            "1882    0\n",
            "262     0\n",
            "1912    1\n",
            "199     1\n",
            "Name: price_range, Length: 400, dtype: int64\n"
          ]
        }
      ]
    },
    {
      "cell_type": "code",
      "source": [
        "print(x.isnull())"
      ],
      "metadata": {
        "colab": {
          "base_uri": "https://localhost:8080/"
        },
        "id": "7xyQFay5bgKX",
        "outputId": "a0e23d1c-2d6e-4436-c65f-cbb6d74f28ac"
      },
      "execution_count": 27,
      "outputs": [
        {
          "output_type": "stream",
          "name": "stdout",
          "text": [
            "      battery_power   blue  clock_speed  dual_sim     fc  four_g  int_memory  \\\n",
            "0             False  False        False     False  False   False       False   \n",
            "1             False  False        False     False  False   False       False   \n",
            "2             False  False        False     False  False   False       False   \n",
            "3             False  False        False     False  False   False       False   \n",
            "4             False  False        False     False  False   False       False   \n",
            "...             ...    ...          ...       ...    ...     ...         ...   \n",
            "1995          False  False        False     False  False   False       False   \n",
            "1996          False  False        False     False  False   False       False   \n",
            "1997          False  False        False     False  False   False       False   \n",
            "1998          False  False        False     False  False   False       False   \n",
            "1999          False  False        False     False  False   False       False   \n",
            "\n",
            "      m_dep  mobile_wt  n_cores     pc  px_height  px_width    ram   sc_h  \\\n",
            "0     False      False    False  False      False     False  False  False   \n",
            "1     False      False    False  False      False     False  False  False   \n",
            "2     False      False    False  False      False     False  False  False   \n",
            "3     False      False    False  False      False     False  False  False   \n",
            "4     False      False    False  False      False     False  False  False   \n",
            "...     ...        ...      ...    ...        ...       ...    ...    ...   \n",
            "1995  False      False    False  False      False     False  False  False   \n",
            "1996  False      False    False  False      False     False  False  False   \n",
            "1997  False      False    False  False      False     False  False  False   \n",
            "1998  False      False    False  False      False     False  False  False   \n",
            "1999  False      False    False  False      False     False  False  False   \n",
            "\n",
            "       sc_w  talk_time  three_g  touch_screen   wifi  \n",
            "0     False      False    False         False  False  \n",
            "1     False      False    False         False  False  \n",
            "2     False      False    False         False  False  \n",
            "3     False      False    False         False  False  \n",
            "4     False      False    False         False  False  \n",
            "...     ...        ...      ...           ...    ...  \n",
            "1995  False      False    False         False  False  \n",
            "1996  False      False    False         False  False  \n",
            "1997  False      False    False         False  False  \n",
            "1998  False      False    False         False  False  \n",
            "1999  False      False    False         False  False  \n",
            "\n",
            "[2000 rows x 20 columns]\n"
          ]
        }
      ]
    },
    {
      "cell_type": "code",
      "source": [
        "# x=x.fillna()\n",
        "print(d.dtypes)"
      ],
      "metadata": {
        "colab": {
          "base_uri": "https://localhost:8080/"
        },
        "id": "SfYOYWyhbl37",
        "outputId": "b4a405e5-1423-4143-e9ec-73a52b5b54f2"
      },
      "execution_count": 29,
      "outputs": [
        {
          "output_type": "stream",
          "name": "stdout",
          "text": [
            "battery_power      int64\n",
            "blue               int64\n",
            "clock_speed      float64\n",
            "dual_sim           int64\n",
            "fc                 int64\n",
            "four_g             int64\n",
            "int_memory         int64\n",
            "m_dep            float64\n",
            "mobile_wt          int64\n",
            "n_cores            int64\n",
            "pc                 int64\n",
            "px_height          int64\n",
            "px_width           int64\n",
            "ram                int64\n",
            "sc_h               int64\n",
            "sc_w               int64\n",
            "talk_time          int64\n",
            "three_g            int64\n",
            "touch_screen       int64\n",
            "wifi               int64\n",
            "price_range        int64\n",
            "dtype: object\n"
          ]
        }
      ]
    },
    {
      "cell_type": "code",
      "source": [
        "u=pd.read_csv(\"/content/sample_data/california_housing_train.csv\")\n",
        "print(u)"
      ],
      "metadata": {
        "colab": {
          "base_uri": "https://localhost:8080/"
        },
        "id": "xtPJ6huvb8R7",
        "outputId": "c420bd84-4dac-4ac3-8c4e-e98aba88dc39"
      },
      "execution_count": 44,
      "outputs": [
        {
          "output_type": "stream",
          "name": "stdout",
          "text": [
            "       longitude  latitude  housing_median_age  total_rooms  total_bedrooms  \\\n",
            "0        -114.31     34.19                15.0       5612.0          1283.0   \n",
            "1        -114.47     34.40                19.0       7650.0          1901.0   \n",
            "2        -114.56     33.69                17.0        720.0           174.0   \n",
            "3        -114.57     33.64                14.0       1501.0           337.0   \n",
            "4        -114.57     33.57                20.0       1454.0           326.0   \n",
            "...          ...       ...                 ...          ...             ...   \n",
            "16995    -124.26     40.58                52.0       2217.0           394.0   \n",
            "16996    -124.27     40.69                36.0       2349.0           528.0   \n",
            "16997    -124.30     41.84                17.0       2677.0           531.0   \n",
            "16998    -124.30     41.80                19.0       2672.0           552.0   \n",
            "16999    -124.35     40.54                52.0       1820.0           300.0   \n",
            "\n",
            "       population  households  median_income  median_house_value  \n",
            "0          1015.0       472.0         1.4936             66900.0  \n",
            "1          1129.0       463.0         1.8200             80100.0  \n",
            "2           333.0       117.0         1.6509             85700.0  \n",
            "3           515.0       226.0         3.1917             73400.0  \n",
            "4           624.0       262.0         1.9250             65500.0  \n",
            "...           ...         ...            ...                 ...  \n",
            "16995       907.0       369.0         2.3571            111400.0  \n",
            "16996      1194.0       465.0         2.5179             79000.0  \n",
            "16997      1244.0       456.0         3.0313            103600.0  \n",
            "16998      1298.0       478.0         1.9797             85800.0  \n",
            "16999       806.0       270.0         3.0147             94600.0  \n",
            "\n",
            "[17000 rows x 9 columns]\n"
          ]
        }
      ]
    },
    {
      "cell_type": "code",
      "source": [
        "ab=(a-a.min())/(a.max()-a.min())\n",
        "print(ab)"
      ],
      "metadata": {
        "colab": {
          "base_uri": "https://localhost:8080/"
        },
        "id": "uZ6no9LWcK70",
        "outputId": "b75629f8-21ba-4651-94b0-c3173daf4912"
      },
      "execution_count": 45,
      "outputs": [
        {
          "output_type": "stream",
          "name": "stdout",
          "text": [
            "       longitude  latitude  housing_median_age  total_rooms  total_bedrooms  \\\n",
            "0       1.000000  0.175345            0.274510     0.147885        0.198945   \n",
            "1       0.984064  0.197662            0.352941     0.201608        0.294848   \n",
            "2       0.975100  0.122210            0.313725     0.018927        0.026847   \n",
            "3       0.974104  0.116897            0.254902     0.039515        0.052142   \n",
            "4       0.974104  0.109458            0.372549     0.038276        0.050435   \n",
            "...          ...       ...                 ...          ...             ...   \n",
            "16995   0.008964  0.854410            1.000000     0.058389        0.060987   \n",
            "16996   0.007968  0.866100            0.686275     0.061869        0.081782   \n",
            "16997   0.004980  0.988310            0.313725     0.070515        0.082247   \n",
            "16998   0.004980  0.984060            0.352941     0.070384        0.085506   \n",
            "16999   0.000000  0.850159            1.000000     0.047924        0.046400   \n",
            "\n",
            "       population  households  median_income  \n",
            "0        0.028364    0.077454       0.068530  \n",
            "1        0.031559    0.075974       0.091040  \n",
            "2        0.009249    0.019076       0.079378  \n",
            "3        0.014350    0.037000       0.185639  \n",
            "4        0.017405    0.042921       0.098281  \n",
            "...           ...         ...            ...  \n",
            "16995    0.025337    0.060516       0.128081  \n",
            "16996    0.033381    0.076303       0.139170  \n",
            "16997    0.034782    0.074823       0.174577  \n",
            "16998    0.036296    0.078441       0.102054  \n",
            "16999    0.022506    0.044236       0.173432  \n",
            "\n",
            "[17000 rows x 8 columns]\n"
          ]
        }
      ]
    },
    {
      "cell_type": "code",
      "source": [
        "from sklearn.model_selection import train_test_split\n",
        "a_train,a_test,b_train,b_test=train_test_split(ab,b,test_size=0.2)"
      ],
      "metadata": {
        "id": "PbJr5Ti8cPcV"
      },
      "execution_count": 34,
      "outputs": []
    },
    {
      "cell_type": "code",
      "source": [
        "random_state=100\n"
      ],
      "metadata": {
        "id": "3NpQTsOycV2O"
      },
      "execution_count": 46,
      "outputs": []
    },
    {
      "cell_type": "code",
      "source": [
        "print(a_train)"
      ],
      "metadata": {
        "colab": {
          "base_uri": "https://localhost:8080/"
        },
        "id": "E00RLQhHdF_B",
        "outputId": "dcfa5e14-4612-407c-dc11-fcaabd4d00db"
      },
      "execution_count": 36,
      "outputs": [
        {
          "output_type": "stream",
          "name": "stdout",
          "text": [
            "       longitude  latitude  housing_median_age  total_rooms  total_bedrooms  \\\n",
            "12560   0.267928  0.443146            0.509804     0.108844        0.137337   \n",
            "11450   0.309761  0.580234            0.470588     0.038724        0.046400   \n",
            "6416    0.606574  0.145590            0.745098     0.024595        0.032433   \n",
            "15233   0.207171  0.556854            0.862745     0.030763        0.040658   \n",
            "12892   0.250996  0.579171            0.431373     0.051878        0.045779   \n",
            "...          ...       ...                 ...          ...             ...   \n",
            "3231    0.646414  0.168969            0.549020     0.016555        0.022346   \n",
            "5839    0.612550  0.160468            0.764706     0.028470        0.049193   \n",
            "125     0.831673  0.069075            0.294118     0.006406        0.008690   \n",
            "13250   0.243028  0.512221            0.803922     0.084935        0.109714   \n",
            "3460    0.643426  0.124336            0.294118     0.041887        0.034761   \n",
            "\n",
            "       population  households  median_income  \n",
            "12560    0.056027    0.133860       0.192618  \n",
            "11450    0.020124    0.049827       0.135784  \n",
            "6416     0.019844    0.031574       0.133626  \n",
            "15233    0.020180    0.046867       0.237548  \n",
            "12892    0.026122    0.045716       0.274851  \n",
            "...           ...         ...            ...  \n",
            "3231     0.010510    0.024174       0.200742  \n",
            "5839     0.030326    0.044729       0.083137  \n",
            "125      0.002186    0.005262       0.052689  \n",
            "13250    0.054290    0.110673       0.187266  \n",
            "3460     0.025870    0.039138       0.396222  \n",
            "\n",
            "[13600 rows x 8 columns]\n"
          ]
        }
      ]
    },
    {
      "cell_type": "code",
      "source": [
        "print(a_test)"
      ],
      "metadata": {
        "colab": {
          "base_uri": "https://localhost:8080/"
        },
        "id": "IrilQBrydIC8",
        "outputId": "46c2e543-26cf-4a01-8162-030f5017cb05"
      },
      "execution_count": 37,
      "outputs": [
        {
          "output_type": "stream",
          "name": "stdout",
          "text": [
            "       longitude  latitude  housing_median_age  total_rooms  total_bedrooms  \\\n",
            "4264    0.632470  0.129649            0.254902     0.029471        0.049348   \n",
            "14473   0.220120  0.597237            0.058824     0.086226        0.076660   \n",
            "14859   0.212151  0.560043            1.000000     0.077106        0.062228   \n",
            "11904   0.297809  0.624867            0.098039     0.085726        0.072005   \n",
            "16434   0.177291  0.575983            1.000000     0.091103        0.072471   \n",
            "...          ...       ...                 ...          ...             ...   \n",
            "5296    0.618526  0.141339            0.843137     0.042309        0.041899   \n",
            "10523   0.390438  0.258236            0.529412     0.037722        0.041744   \n",
            "2547    0.668327  0.103082            0.254902     0.035350        0.027002   \n",
            "11788   0.301793  0.580234            0.392157     0.047265        0.074643   \n",
            "11425   0.310757  0.560043            0.294118     0.054910        0.052917   \n",
            "\n",
            "       population  households  median_income  \n",
            "4264     0.027439    0.050321       0.166094  \n",
            "14473    0.041873    0.074494       0.333416  \n",
            "14859    0.028532    0.062325       0.528027  \n",
            "11904    0.032652    0.056570       0.322837  \n",
            "16434    0.040528    0.077290       0.598854  \n",
            "...           ...         ...            ...  \n",
            "5296     0.022310    0.046374       0.316140  \n",
            "10523    0.027972    0.045552       0.242245  \n",
            "2547     0.018134    0.030094       0.466538  \n",
            "11788    0.031139    0.077454       0.104081  \n",
            "11425    0.034558    0.056570       0.348906  \n",
            "\n",
            "[3400 rows x 8 columns]\n"
          ]
        }
      ]
    },
    {
      "cell_type": "code",
      "source": [
        "print(b_train)"
      ],
      "metadata": {
        "colab": {
          "base_uri": "https://localhost:8080/"
        },
        "id": "3iQtvWQqdL_G",
        "outputId": "c86da8d9-aae9-43e6-f7a9-6fa9feca0d07"
      },
      "execution_count": 38,
      "outputs": [
        {
          "output_type": "stream",
          "name": "stdout",
          "text": [
            "12560    157500.0\n",
            "11450    126800.0\n",
            "6416     101900.0\n",
            "15233    212900.0\n",
            "12892    145900.0\n",
            "           ...   \n",
            "3231     170800.0\n",
            "5839     117200.0\n",
            "125       51300.0\n",
            "13250    199700.0\n",
            "3460     266300.0\n",
            "Name: median_house_value, Length: 13600, dtype: float64\n"
          ]
        }
      ]
    },
    {
      "cell_type": "code",
      "source": [
        "print(a_test)"
      ],
      "metadata": {
        "colab": {
          "base_uri": "https://localhost:8080/"
        },
        "id": "lDKGSIG6dQBn",
        "outputId": "3b31b599-aced-4bfd-85e5-8ed15c624078"
      },
      "execution_count": 39,
      "outputs": [
        {
          "output_type": "stream",
          "name": "stdout",
          "text": [
            "       longitude  latitude  housing_median_age  total_rooms  total_bedrooms  \\\n",
            "4264    0.632470  0.129649            0.254902     0.029471        0.049348   \n",
            "14473   0.220120  0.597237            0.058824     0.086226        0.076660   \n",
            "14859   0.212151  0.560043            1.000000     0.077106        0.062228   \n",
            "11904   0.297809  0.624867            0.098039     0.085726        0.072005   \n",
            "16434   0.177291  0.575983            1.000000     0.091103        0.072471   \n",
            "...          ...       ...                 ...          ...             ...   \n",
            "5296    0.618526  0.141339            0.843137     0.042309        0.041899   \n",
            "10523   0.390438  0.258236            0.529412     0.037722        0.041744   \n",
            "2547    0.668327  0.103082            0.254902     0.035350        0.027002   \n",
            "11788   0.301793  0.580234            0.392157     0.047265        0.074643   \n",
            "11425   0.310757  0.560043            0.294118     0.054910        0.052917   \n",
            "\n",
            "       population  households  median_income  \n",
            "4264     0.027439    0.050321       0.166094  \n",
            "14473    0.041873    0.074494       0.333416  \n",
            "14859    0.028532    0.062325       0.528027  \n",
            "11904    0.032652    0.056570       0.322837  \n",
            "16434    0.040528    0.077290       0.598854  \n",
            "...           ...         ...            ...  \n",
            "5296     0.022310    0.046374       0.316140  \n",
            "10523    0.027972    0.045552       0.242245  \n",
            "2547     0.018134    0.030094       0.466538  \n",
            "11788    0.031139    0.077454       0.104081  \n",
            "11425    0.034558    0.056570       0.348906  \n",
            "\n",
            "[3400 rows x 8 columns]\n"
          ]
        }
      ]
    },
    {
      "cell_type": "code",
      "source": [
        "print(a.isnull())"
      ],
      "metadata": {
        "colab": {
          "base_uri": "https://localhost:8080/"
        },
        "id": "UwVhjoA_dT0i",
        "outputId": "e63b77a1-3581-4c6e-c661-4bde2ae281c4"
      },
      "execution_count": 40,
      "outputs": [
        {
          "output_type": "stream",
          "name": "stdout",
          "text": [
            "       longitude  latitude  housing_median_age  total_rooms  total_bedrooms  \\\n",
            "0          False     False               False        False           False   \n",
            "1          False     False               False        False           False   \n",
            "2          False     False               False        False           False   \n",
            "3          False     False               False        False           False   \n",
            "4          False     False               False        False           False   \n",
            "...          ...       ...                 ...          ...             ...   \n",
            "16995      False     False               False        False           False   \n",
            "16996      False     False               False        False           False   \n",
            "16997      False     False               False        False           False   \n",
            "16998      False     False               False        False           False   \n",
            "16999      False     False               False        False           False   \n",
            "\n",
            "       population  households  median_income  \n",
            "0           False       False          False  \n",
            "1           False       False          False  \n",
            "2           False       False          False  \n",
            "3           False       False          False  \n",
            "4           False       False          False  \n",
            "...           ...         ...            ...  \n",
            "16995       False       False          False  \n",
            "16996       False       False          False  \n",
            "16997       False       False          False  \n",
            "16998       False       False          False  \n",
            "16999       False       False          False  \n",
            "\n",
            "[17000 rows x 8 columns]\n"
          ]
        }
      ]
    },
    {
      "cell_type": "code",
      "source": [
        "a=a.fillna(0)\n",
        "print(a)"
      ],
      "metadata": {
        "colab": {
          "base_uri": "https://localhost:8080/"
        },
        "id": "fK_n1hHMdX0v",
        "outputId": "b381394d-bcd2-460b-e38c-1c5ceeb935dd"
      },
      "execution_count": 41,
      "outputs": [
        {
          "output_type": "stream",
          "name": "stdout",
          "text": [
            "       longitude  latitude  housing_median_age  total_rooms  total_bedrooms  \\\n",
            "0        -114.31     34.19                15.0       5612.0          1283.0   \n",
            "1        -114.47     34.40                19.0       7650.0          1901.0   \n",
            "2        -114.56     33.69                17.0        720.0           174.0   \n",
            "3        -114.57     33.64                14.0       1501.0           337.0   \n",
            "4        -114.57     33.57                20.0       1454.0           326.0   \n",
            "...          ...       ...                 ...          ...             ...   \n",
            "16995    -124.26     40.58                52.0       2217.0           394.0   \n",
            "16996    -124.27     40.69                36.0       2349.0           528.0   \n",
            "16997    -124.30     41.84                17.0       2677.0           531.0   \n",
            "16998    -124.30     41.80                19.0       2672.0           552.0   \n",
            "16999    -124.35     40.54                52.0       1820.0           300.0   \n",
            "\n",
            "       population  households  median_income  \n",
            "0          1015.0       472.0         1.4936  \n",
            "1          1129.0       463.0         1.8200  \n",
            "2           333.0       117.0         1.6509  \n",
            "3           515.0       226.0         3.1917  \n",
            "4           624.0       262.0         1.9250  \n",
            "...           ...         ...            ...  \n",
            "16995       907.0       369.0         2.3571  \n",
            "16996      1194.0       465.0         2.5179  \n",
            "16997      1244.0       456.0         3.0313  \n",
            "16998      1298.0       478.0         1.9797  \n",
            "16999       806.0       270.0         3.0147  \n",
            "\n",
            "[17000 rows x 8 columns]\n"
          ]
        }
      ]
    },
    {
      "cell_type": "code",
      "source": [
        "print(u.dtypes)"
      ],
      "metadata": {
        "colab": {
          "base_uri": "https://localhost:8080/"
        },
        "id": "g0UlDaUrdb93",
        "outputId": "e0d3eff3-1f27-4912-9ba5-b29fb9ee9fcf"
      },
      "execution_count": 42,
      "outputs": [
        {
          "output_type": "stream",
          "name": "stdout",
          "text": [
            "longitude             float64\n",
            "latitude              float64\n",
            "housing_median_age    float64\n",
            "total_rooms           float64\n",
            "total_bedrooms        float64\n",
            "population            float64\n",
            "households            float64\n",
            "median_income         float64\n",
            "median_house_value    float64\n",
            "dtype: object\n"
          ]
        }
      ]
    }
  ]
}