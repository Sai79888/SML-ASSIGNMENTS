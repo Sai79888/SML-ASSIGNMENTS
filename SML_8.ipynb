{
  "nbformat": 4,
  "nbformat_minor": 0,
  "metadata": {
    "colab": {
      "provenance": []
    },
    "kernelspec": {
      "name": "python3",
      "display_name": "Python 3"
    },
    "language_info": {
      "name": "python"
    }
  },
  "cells": [
    {
      "cell_type": "code",
      "source": [
        "import pandas as pd\n",
        "d=pd.read_excel('/content/book2.xlsx')\n",
        "print(d)"
      ],
      "metadata": {
        "id": "A2s1yAjlCIlZ",
        "colab": {
          "base_uri": "https://localhost:8080/"
        },
        "outputId": "09f2916f-a2ca-4add-aba7-e3b26d03725c"
      },
      "execution_count": 1,
      "outputs": [
        {
          "output_type": "stream",
          "name": "stdout",
          "text": [
            "   x1  x2  x3  y\n",
            "0  10  90  85  1\n",
            "1  15  60  75  0\n",
            "2   5  95  90  1\n",
            "3   2  30  50  0\n",
            "4  12  85  88  1\n",
            "5   8  75  55  0\n",
            "6  14  92  63  1\n",
            "7   3  50  55  0\n",
            "8  11  88  80  1\n",
            "9   6  65  90  0\n"
          ]
        }
      ]
    },
    {
      "cell_type": "code",
      "source": [
        "target=d['y']\n",
        "print(target)"
      ],
      "metadata": {
        "colab": {
          "base_uri": "https://localhost:8080/"
        },
        "id": "T4Id73sdE7wc",
        "outputId": "ca6fd1c3-63ba-4276-f75b-4ca45eae3909"
      },
      "execution_count": 4,
      "outputs": [
        {
          "output_type": "stream",
          "name": "stdout",
          "text": [
            "0    1\n",
            "1    0\n",
            "2    1\n",
            "3    0\n",
            "4    1\n",
            "5    0\n",
            "6    1\n",
            "7    0\n",
            "8    1\n",
            "9    0\n",
            "Name: y, dtype: int64\n"
          ]
        }
      ]
    },
    {
      "cell_type": "code",
      "source": [
        "x=d.drop('y',axis=1)\n",
        "print(x)"
      ],
      "metadata": {
        "colab": {
          "base_uri": "https://localhost:8080/"
        },
        "id": "7wr0ps0vGpfp",
        "outputId": "3dbe88e9-6a99-4271-ee8c-53cf13be64cc"
      },
      "execution_count": 6,
      "outputs": [
        {
          "output_type": "stream",
          "name": "stdout",
          "text": [
            "   x1  x2  x3\n",
            "0  10  90  85\n",
            "1  15  60  75\n",
            "2   5  95  90\n",
            "3   2  30  50\n",
            "4  12  85  88\n",
            "5   8  75  55\n",
            "6  14  92  63\n",
            "7   3  50  55\n",
            "8  11  88  80\n",
            "9   6  65  90\n"
          ]
        }
      ]
    },
    {
      "cell_type": "code",
      "source": [
        "from sklearn.model_selection import train_test_split\n",
        "from sklearn.linear_model import LogisticRegression\n",
        "x_train,x_test,y_train,y_test=train_test_split(x,target,test_size=0.2)\n",
        "model=LogisticRegression()\n",
        "model.fit(x_train,y_train)\n",
        "y_pred=model.predict(x_test)\n",
        "print(\"coefficients:\",model.coef_)\n",
        "print(\"intercept:\",model.intercept_)\n"
      ],
      "metadata": {
        "colab": {
          "base_uri": "https://localhost:8080/"
        },
        "id": "PuTV0NRCGxm9",
        "outputId": "19e97e48-f53e-492e-e484-7548d9329ee1"
      },
      "execution_count": 12,
      "outputs": [
        {
          "output_type": "stream",
          "name": "stdout",
          "text": [
            "coefficients: [[0.10181823 0.42321908 0.14489074]]\n",
            "intercept: [-45.37686191]\n"
          ]
        }
      ]
    },
    {
      "cell_type": "code",
      "source": [
        "from sklearn.metrics import classification_report\n",
        "report=classification_report(y_test,y_pred)\n",
        "print(report)"
      ],
      "metadata": {
        "colab": {
          "base_uri": "https://localhost:8080/"
        },
        "id": "g_DNMYSbH3x-",
        "outputId": "b37d8f56-3272-4b0e-cc21-b0132558d41f"
      },
      "execution_count": 14,
      "outputs": [
        {
          "output_type": "stream",
          "name": "stdout",
          "text": [
            "              precision    recall  f1-score   support\n",
            "\n",
            "           1       1.00      1.00      1.00         2\n",
            "\n",
            "    accuracy                           1.00         2\n",
            "   macro avg       1.00      1.00      1.00         2\n",
            "weighted avg       1.00      1.00      1.00         2\n",
            "\n"
          ]
        }
      ]
    },
    {
      "cell_type": "code",
      "source": [
        "from sklearn.metrics import confusion_matrix\n",
        "confusion=confusion_matrix(y_test,y_pred)\n",
        "print(confusion)"
      ],
      "metadata": {
        "colab": {
          "base_uri": "https://localhost:8080/"
        },
        "id": "kXsZ6Jb3IjMH",
        "outputId": "94276ce4-3de3-47d9-a754-6f34486eaf0d"
      },
      "execution_count": 17,
      "outputs": [
        {
          "output_type": "stream",
          "name": "stdout",
          "text": [
            "[[2]]\n"
          ]
        },
        {
          "output_type": "stream",
          "name": "stderr",
          "text": [
            "/usr/local/lib/python3.10/dist-packages/sklearn/metrics/_classification.py:409: UserWarning: A single label was found in 'y_true' and 'y_pred'. For the confusion matrix to have the correct shape, use the 'labels' parameter to pass all known labels.\n",
            "  warnings.warn(\n"
          ]
        }
      ]
    },
    {
      "cell_type": "code",
      "source": [
        "import pandas as pd\n",
        "d = pd.read_csv('/content/diabetes_data_upload (2).csv')\n",
        "print(d)"
      ],
      "metadata": {
        "colab": {
          "base_uri": "https://localhost:8080/"
        },
        "id": "5Zk2IOenI5SF",
        "outputId": "e73cbc6b-043c-4d4a-d6a8-92988708b0b5"
      },
      "execution_count": 20,
      "outputs": [
        {
          "output_type": "stream",
          "name": "stdout",
          "text": [
            "     Age  Gender Polyuria Polydipsia sudden weight loss weakness Polyphagia  \\\n",
            "0     40    Male       No        Yes                 No      Yes         No   \n",
            "1     58    Male       No         No                 No      Yes         No   \n",
            "2     41    Male      Yes         No                 No      Yes        Yes   \n",
            "3     45    Male       No         No                Yes      Yes        Yes   \n",
            "4     60    Male      Yes        Yes                Yes      Yes        Yes   \n",
            "..   ...     ...      ...        ...                ...      ...        ...   \n",
            "515   39  Female      Yes        Yes                Yes       No        Yes   \n",
            "516   48  Female      Yes        Yes                Yes      Yes        Yes   \n",
            "517   58  Female      Yes        Yes                Yes      Yes        Yes   \n",
            "518   32  Female       No         No                 No      Yes         No   \n",
            "519   42    Male       No         No                 No       No         No   \n",
            "\n",
            "    Genital thrush visual blurring Itching Irritability delayed healing  \\\n",
            "0               No              No     Yes           No             Yes   \n",
            "1               No             Yes      No           No              No   \n",
            "2               No              No     Yes           No             Yes   \n",
            "3              Yes              No     Yes           No             Yes   \n",
            "4               No             Yes     Yes          Yes             Yes   \n",
            "..             ...             ...     ...          ...             ...   \n",
            "515             No              No     Yes           No             Yes   \n",
            "516             No              No     Yes          Yes             Yes   \n",
            "517             No             Yes      No           No              No   \n",
            "518             No             Yes     Yes           No             Yes   \n",
            "519             No              No      No           No              No   \n",
            "\n",
            "    partial paresis muscle stiffness Alopecia Obesity     class  \n",
            "0                No              Yes      Yes     Yes  Positive  \n",
            "1               Yes               No      Yes      No  Positive  \n",
            "2                No              Yes      Yes      No  Positive  \n",
            "3                No               No       No      No  Positive  \n",
            "4               Yes              Yes      Yes     Yes  Positive  \n",
            "..              ...              ...      ...     ...       ...  \n",
            "515             Yes               No       No      No  Positive  \n",
            "516             Yes               No       No      No  Positive  \n",
            "517             Yes              Yes       No     Yes  Positive  \n",
            "518              No               No      Yes      No  Negative  \n",
            "519              No               No       No      No  Negative  \n",
            "\n",
            "[520 rows x 17 columns]\n"
          ]
        }
      ]
    },
    {
      "cell_type": "code",
      "source": [
        "d['class']=d['class'].replace({'Negative':0,'Positive':1})\n",
        "d['Gender'] = d['Gender'].replace({'Female': 0, 'Male': 1})\n",
        "d['Polyuria'] = d['Polyuria'].replace({'No': 0, 'Yes': 1})\n",
        "3\n",
        "d['Polydipsia'] = d['Polydipsia'].replace({'No': 0, 'Yes': 1})\n",
        "d['sudden weight loss'] = d['sudden weight loss'].replace({'No': 0, 'Yes': 1})\n",
        "d['weakness'] = d['weakness'].replace({'No': 0, 'Yes': 1})\n",
        "d['Polyphagia'] = d['Polyphagia'].replace({'No': 0, 'Yes': 1})\n",
        "d['Genital thrush'] = d['Genital thrush'].replace({'No': 0, 'Yes': 1})\n",
        "d['visual blurring'] = d['visual blurring'].replace({'No': 0, 'Yes': 1})\n",
        "d['Itching'] = d['Itching'].replace({'No': 0, 'Yes': 1})\n",
        "d['Irritability'] = d['Irritability'].replace({'No': 0, 'Yes': 1})\n",
        "d['delayed healing'] = d['delayed healing'].replace({'No': 0, 'Yes': 1})\n",
        "d['partial paresis'] = d['partial paresis'].replace({'No': 0, 'Yes': 1})\n",
        "d['muscle stiffness'] = d['muscle stiffness'].replace({'No': 0, 'Yes': 1})\n",
        "d['Alopecia'] = d['Alopecia'].replace({'No': 0, 'Yes': 1})\n",
        "d['Obesity'] = d['Obesity'].replace({'No': 0, 'Yes': 1})\n",
        "print(d)"
      ],
      "metadata": {
        "colab": {
          "base_uri": "https://localhost:8080/"
        },
        "id": "iYwceg0NKGBn",
        "outputId": "41ac1608-2a92-442f-b0fa-9ae2170f4298"
      },
      "execution_count": 22,
      "outputs": [
        {
          "output_type": "stream",
          "name": "stdout",
          "text": [
            "     Age  Gender  Polyuria  Polydipsia  sudden weight loss  weakness  \\\n",
            "0     40       1         0           1                   0         1   \n",
            "1     58       1         0           0                   0         1   \n",
            "2     41       1         1           0                   0         1   \n",
            "3     45       1         0           0                   1         1   \n",
            "4     60       1         1           1                   1         1   \n",
            "..   ...     ...       ...         ...                 ...       ...   \n",
            "515   39       0         1           1                   1         0   \n",
            "516   48       0         1           1                   1         1   \n",
            "517   58       0         1           1                   1         1   \n",
            "518   32       0         0           0                   0         1   \n",
            "519   42       1         0           0                   0         0   \n",
            "\n",
            "     Polyphagia  Genital thrush  visual blurring  Itching  Irritability  \\\n",
            "0             0               0                0        1             0   \n",
            "1             0               0                1        0             0   \n",
            "2             1               0                0        1             0   \n",
            "3             1               1                0        1             0   \n",
            "4             1               0                1        1             1   \n",
            "..          ...             ...              ...      ...           ...   \n",
            "515           1               0                0        1             0   \n",
            "516           1               0                0        1             1   \n",
            "517           1               0                1        0             0   \n",
            "518           0               0                1        1             0   \n",
            "519           0               0                0        0             0   \n",
            "\n",
            "     delayed healing  partial paresis  muscle stiffness  Alopecia  Obesity  \\\n",
            "0                  1                0                 1         1        1   \n",
            "1                  0                1                 0         1        0   \n",
            "2                  1                0                 1         1        0   \n",
            "3                  1                0                 0         0        0   \n",
            "4                  1                1                 1         1        1   \n",
            "..               ...              ...               ...       ...      ...   \n",
            "515                1                1                 0         0        0   \n",
            "516                1                1                 0         0        0   \n",
            "517                0                1                 1         0        1   \n",
            "518                1                0                 0         1        0   \n",
            "519                0                0                 0         0        0   \n",
            "\n",
            "     class  \n",
            "0        1  \n",
            "1        1  \n",
            "2        1  \n",
            "3        1  \n",
            "4        1  \n",
            "..     ...  \n",
            "515      1  \n",
            "516      1  \n",
            "517      1  \n",
            "518      0  \n",
            "519      0  \n",
            "\n",
            "[520 rows x 17 columns]\n"
          ]
        }
      ]
    },
    {
      "cell_type": "code",
      "source": [
        "target=d['class']\n",
        "print(target)"
      ],
      "metadata": {
        "colab": {
          "base_uri": "https://localhost:8080/"
        },
        "id": "E6-nsDgnKn73",
        "outputId": "824eb6e4-1433-4e28-942d-093b55baa92d"
      },
      "execution_count": 24,
      "outputs": [
        {
          "output_type": "stream",
          "name": "stdout",
          "text": [
            "0      1\n",
            "1      1\n",
            "2      1\n",
            "3      1\n",
            "4      1\n",
            "      ..\n",
            "515    1\n",
            "516    1\n",
            "517    1\n",
            "518    0\n",
            "519    0\n",
            "Name: class, Length: 520, dtype: int64\n"
          ]
        }
      ]
    },
    {
      "cell_type": "code",
      "source": [
        "x=d.drop('class',axis=1)\n",
        "print(x)"
      ],
      "metadata": {
        "colab": {
          "base_uri": "https://localhost:8080/"
        },
        "id": "Sw3bHyTdK2pp",
        "outputId": "20ff7953-a540-4232-ed9a-03ffb315fa3b"
      },
      "execution_count": 25,
      "outputs": [
        {
          "output_type": "stream",
          "name": "stdout",
          "text": [
            "     Age  Gender  Polyuria  Polydipsia  sudden weight loss  weakness  \\\n",
            "0     40       1         0           1                   0         1   \n",
            "1     58       1         0           0                   0         1   \n",
            "2     41       1         1           0                   0         1   \n",
            "3     45       1         0           0                   1         1   \n",
            "4     60       1         1           1                   1         1   \n",
            "..   ...     ...       ...         ...                 ...       ...   \n",
            "515   39       0         1           1                   1         0   \n",
            "516   48       0         1           1                   1         1   \n",
            "517   58       0         1           1                   1         1   \n",
            "518   32       0         0           0                   0         1   \n",
            "519   42       1         0           0                   0         0   \n",
            "\n",
            "     Polyphagia  Genital thrush  visual blurring  Itching  Irritability  \\\n",
            "0             0               0                0        1             0   \n",
            "1             0               0                1        0             0   \n",
            "2             1               0                0        1             0   \n",
            "3             1               1                0        1             0   \n",
            "4             1               0                1        1             1   \n",
            "..          ...             ...              ...      ...           ...   \n",
            "515           1               0                0        1             0   \n",
            "516           1               0                0        1             1   \n",
            "517           1               0                1        0             0   \n",
            "518           0               0                1        1             0   \n",
            "519           0               0                0        0             0   \n",
            "\n",
            "     delayed healing  partial paresis  muscle stiffness  Alopecia  Obesity  \n",
            "0                  1                0                 1         1        1  \n",
            "1                  0                1                 0         1        0  \n",
            "2                  1                0                 1         1        0  \n",
            "3                  1                0                 0         0        0  \n",
            "4                  1                1                 1         1        1  \n",
            "..               ...              ...               ...       ...      ...  \n",
            "515                1                1                 0         0        0  \n",
            "516                1                1                 0         0        0  \n",
            "517                0                1                 1         0        1  \n",
            "518                1                0                 0         1        0  \n",
            "519                0                0                 0         0        0  \n",
            "\n",
            "[520 rows x 16 columns]\n"
          ]
        }
      ]
    },
    {
      "cell_type": "code",
      "source": [
        "from sklearn.model_selection import train_test_split\n",
        "from sklearn.linear_model import LogisticRegression\n",
        "X_train, X_test, y_train, y_test = train_test_split(x, target, test_size=0.2) # Changed y to target\n",
        "model = LogisticRegression()\n",
        "model.fit(X_train, y_train)\n",
        "y_pred = model.predict(X_test)\n",
        "print(\"Coefficients:\", model.coef_)\n",
        "print(\"Intercept:\", model.intercept_)"
      ],
      "metadata": {
        "colab": {
          "base_uri": "https://localhost:8080/"
        },
        "id": "RyeUTI7JLECX",
        "outputId": "4516b174-d76b-47ca-ca1f-3234ecb52e8b"
      },
      "execution_count": 28,
      "outputs": [
        {
          "output_type": "stream",
          "name": "stdout",
          "text": [
            "Coefficients: [[-0.03611104 -2.88584459  2.72385607  2.63389705  0.69012512  0.22923073\n",
            "   0.86051235  1.36082405  0.51663039 -1.06885478  1.52051924 -0.44777289\n",
            "   1.0026805  -0.2978345  -0.2077957   0.00452532]]\n",
            "Intercept: [1.78321895]\n"
          ]
        }
      ]
    },
    {
      "cell_type": "code",
      "source": [
        "from sklearn.metrics import accuracy_score\n",
        "accuracy = accuracy_score(y_test, y_pred)\n",
        "print(\"Accuracy:\", accuracy)"
      ],
      "metadata": {
        "colab": {
          "base_uri": "https://localhost:8080/"
        },
        "id": "QNxb0WA3La3f",
        "outputId": "5876bbcc-be5f-4eb3-c213-e27cdde7460d"
      },
      "execution_count": 29,
      "outputs": [
        {
          "output_type": "stream",
          "name": "stdout",
          "text": [
            "Accuracy: 0.8846153846153846\n"
          ]
        }
      ]
    },
    {
      "cell_type": "code",
      "source": [
        "from sklearn.metrics import classification_report\n",
        "report = classification_report(y_test, y_pred)\n",
        "print(\"Accuracy:\", report)"
      ],
      "metadata": {
        "colab": {
          "base_uri": "https://localhost:8080/"
        },
        "id": "pJFOqmYpLrwB",
        "outputId": "aeebe53a-51fa-48e1-9eb9-60a69399827d"
      },
      "execution_count": 30,
      "outputs": [
        {
          "output_type": "stream",
          "name": "stdout",
          "text": [
            "Accuracy:               precision    recall  f1-score   support\n",
            "\n",
            "           0       0.91      0.84      0.88        51\n",
            "           1       0.86      0.92      0.89        53\n",
            "\n",
            "    accuracy                           0.88       104\n",
            "   macro avg       0.89      0.88      0.88       104\n",
            "weighted avg       0.89      0.88      0.88       104\n",
            "\n"
          ]
        }
      ]
    },
    {
      "cell_type": "code",
      "source": [
        "from sklearn.metrics import confusion_matrix\n",
        "confusion = confusion_matrix(y_test, y_pred)\n",
        "print(confusion)\n"
      ],
      "metadata": {
        "colab": {
          "base_uri": "https://localhost:8080/"
        },
        "id": "ZfTyYD_KLtar",
        "outputId": "ae124096-2a03-4c0e-fa67-19b878a97abb"
      },
      "execution_count": 31,
      "outputs": [
        {
          "output_type": "stream",
          "name": "stdout",
          "text": [
            "[[43  8]\n",
            " [ 4 49]]\n"
          ]
        }
      ]
    }
  ]
}